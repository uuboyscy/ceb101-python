{
 "cells": [
  {
   "cell_type": "code",
   "execution_count": 1,
   "metadata": {},
   "outputs": [
    {
     "name": "stdout",
     "output_type": "stream",
     "text": [
      "| ID  |  Name | DeptId| Age | Gender | Salary |\n",
      "| --- |  ---  |  ---  | --- |  ---   | ------ |\n",
      "| 001 | Mike  | 002   | 45  |   M    | 60000  |\n",
      "| 002 | Judy  | 002   | 30  |   F    | 48000  |\n",
      "| 003 | Allen | 001   | 22  |   M    | 50000  |\n",
      "| 004 | Tom   | 002   | 47  |   M    | 47000  |\n",
      "| 005 | Jack  | 003   | 36  |   M    | 52000  |\n",
      "| 006 | Abby  | 002   | 24  |   F    | 45000  |\n",
      "| 007 | Trump | 001   | 80  |   M    | 80000  |\n",
      "| 008 | Marry | 003   | 29  |   F    | 87000  |\n"
     ]
    }
   ],
   "source": [
    "import json\n",
    "\n",
    "path = 'staff.txt'\n",
    "\n",
    "with open(path, 'r', encoding='utf-8') as f:\n",
    "    staffStr = f.read()\n",
    "print(staffStr)"
   ]
  },
  {
   "cell_type": "code",
   "execution_count": 12,
   "metadata": {},
   "outputs": [
    {
     "name": "stdout",
     "output_type": "stream",
     "text": [
      "['ID', 'Name', 'DeptId', 'Age', 'Gender', 'Salary']\n"
     ]
    }
   ],
   "source": [
    "column = staffStr.replace(' ', '').split('\\n')[0].split('|')[1:-1]\n",
    "print(column)"
   ]
  },
  {
   "cell_type": "code",
   "execution_count": 14,
   "metadata": {},
   "outputs": [
    {
     "data": {
      "text/plain": [
       "['|001|Mike|002|45|M|60000|',\n",
       " '|002|Judy|002|30|F|48000|',\n",
       " '|003|Allen|001|22|M|50000|',\n",
       " '|004|Tom|002|47|M|47000|',\n",
       " '|005|Jack|003|36|M|52000|',\n",
       " '|006|Abby|002|24|F|45000|',\n",
       " '|007|Trump|001|80|M|80000|']"
      ]
     },
     "execution_count": 14,
     "metadata": {},
     "output_type": "execute_result"
    }
   ],
   "source": [
    "staffStr.replace(' ', '').split('\\n')[2:-1]"
   ]
  },
  {
   "cell_type": "code",
   "execution_count": 18,
   "metadata": {},
   "outputs": [
    {
     "data": {
      "text/plain": [
       "[['001', 'Mike', '002', '45', 'M', '60000'],\n",
       " ['002', 'Judy', '002', '30', 'F', '48000'],\n",
       " ['003', 'Allen', '001', '22', 'M', '50000'],\n",
       " ['004', 'Tom', '002', '47', 'M', '47000'],\n",
       " ['005', 'Jack', '003', '36', 'M', '52000'],\n",
       " ['006', 'Abby', '002', '24', 'F', '45000'],\n",
       " ['007', 'Trump', '001', '80', 'M', '80000']]"
      ]
     },
     "execution_count": 18,
     "metadata": {},
     "output_type": "execute_result"
    }
   ],
   "source": [
    "staffInfo = list()\n",
    "for r in staffStr.replace(' ', '').split('\\n')[2:-1]:\n",
    "    staffInfo.append(r.split('|')[1:-1])\n",
    "#     print(r.split('|')[1:-1])\n",
    "\n",
    "staffInfo"
   ]
  },
  {
   "cell_type": "code",
   "execution_count": 19,
   "metadata": {},
   "outputs": [
    {
     "data": {
      "text/plain": [
       "[['001', 'Mike', '002', '45', 'M', '60000'],\n",
       " ['002', 'Judy', '002', '30', 'F', '48000'],\n",
       " ['003', 'Allen', '001', '22', 'M', '50000'],\n",
       " ['004', 'Tom', '002', '47', 'M', '47000'],\n",
       " ['005', 'Jack', '003', '36', 'M', '52000'],\n",
       " ['006', 'Abby', '002', '24', 'F', '45000'],\n",
       " ['007', 'Trump', '001', '80', 'M', '80000']]"
      ]
     },
     "execution_count": 19,
     "metadata": {},
     "output_type": "execute_result"
    }
   ],
   "source": [
    "staffInfo = [s.split('|')[1:-1] for s in staffStr.replace(' ', '').split('\\n')[2:-1]]\n",
    "staffInfo"
   ]
  },
  {
   "cell_type": "code",
   "execution_count": 6,
   "metadata": {},
   "outputs": [
    {
     "data": {
      "text/plain": [
       "{'001': {'ID': '001',\n",
       "  'Name': 'Mike',\n",
       "  'DeptId': '002',\n",
       "  'Age': '45',\n",
       "  'Gender': 'M',\n",
       "  'Salary': '60000'},\n",
       " '002': {'ID': '002',\n",
       "  'Name': 'Judy',\n",
       "  'DeptId': '002',\n",
       "  'Age': '30',\n",
       "  'Gender': 'F',\n",
       "  'Salary': '48000'},\n",
       " '003': {'ID': '003',\n",
       "  'Name': 'Allen',\n",
       "  'DeptId': '001',\n",
       "  'Age': '22',\n",
       "  'Gender': 'M',\n",
       "  'Salary': '50000'},\n",
       " '004': {'ID': '004',\n",
       "  'Name': 'Tom',\n",
       "  'DeptId': '002',\n",
       "  'Age': '47',\n",
       "  'Gender': 'M',\n",
       "  'Salary': '47000'},\n",
       " '005': {'ID': '005',\n",
       "  'Name': 'Jack',\n",
       "  'DeptId': '003',\n",
       "  'Age': '36',\n",
       "  'Gender': 'M',\n",
       "  'Salary': '52000'},\n",
       " '006': {'ID': '006',\n",
       "  'Name': 'Abby',\n",
       "  'DeptId': '002',\n",
       "  'Age': '24',\n",
       "  'Gender': 'F',\n",
       "  'Salary': '45000'},\n",
       " '007': {'ID': '007',\n",
       "  'Name': 'Trump',\n",
       "  'DeptId': '001',\n",
       "  'Age': '80',\n",
       "  'Gender': 'M',\n",
       "  'Salary': '80000'}}"
      ]
     },
     "execution_count": 6,
     "metadata": {},
     "output_type": "execute_result"
    }
   ],
   "source": [
    "staffJson = {staff[0]: {column[col]: info for col, info in enumerate(staff)} for staff in staffInfo}\n",
    "staffJson"
   ]
  },
  {
   "cell_type": "code",
   "execution_count": 20,
   "metadata": {},
   "outputs": [
    {
     "name": "stdout",
     "output_type": "stream",
     "text": [
      "<class 'dict'>\n"
     ]
    }
   ],
   "source": [
    "print(type(staffJson))"
   ]
  },
  {
   "cell_type": "code",
   "execution_count": 21,
   "metadata": {},
   "outputs": [
    {
     "data": {
      "text/plain": [
       "'{\"001\": {\"ID\": \"001\", \"Name\": \"Mike\", \"DeptId\": \"002\", \"Age\": \"45\", \"Gender\": \"M\", \"Salary\": \"60000\"}, \"002\": {\"ID\": \"002\", \"Name\": \"Judy\", \"DeptId\": \"002\", \"Age\": \"30\", \"Gender\": \"F\", \"Salary\": \"48000\"}, \"003\": {\"ID\": \"003\", \"Name\": \"Allen\", \"DeptId\": \"001\", \"Age\": \"22\", \"Gender\": \"M\", \"Salary\": \"50000\"}, \"004\": {\"ID\": \"004\", \"Name\": \"Tom\", \"DeptId\": \"002\", \"Age\": \"47\", \"Gender\": \"M\", \"Salary\": \"47000\"}, \"005\": {\"ID\": \"005\", \"Name\": \"Jack\", \"DeptId\": \"003\", \"Age\": \"36\", \"Gender\": \"M\", \"Salary\": \"52000\"}, \"006\": {\"ID\": \"006\", \"Name\": \"Abby\", \"DeptId\": \"002\", \"Age\": \"24\", \"Gender\": \"F\", \"Salary\": \"45000\"}, \"007\": {\"ID\": \"007\", \"Name\": \"Trump\", \"DeptId\": \"001\", \"Age\": \"80\", \"Gender\": \"M\", \"Salary\": \"80000\"}}'"
      ]
     },
     "execution_count": 21,
     "metadata": {},
     "output_type": "execute_result"
    }
   ],
   "source": [
    "jsonStr = json.dumps(staffJson)\n",
    "jsonStr"
   ]
  },
  {
   "cell_type": "code",
   "execution_count": 22,
   "metadata": {},
   "outputs": [],
   "source": [
    "with open('staff.json', 'w', encoding='utf-8') as f:\n",
    "    f.write(jsonStr)"
   ]
  },
  {
   "cell_type": "code",
   "execution_count": null,
   "metadata": {},
   "outputs": [],
   "source": []
  }
 ],
 "metadata": {
  "kernelspec": {
   "display_name": "Python 3",
   "language": "python",
   "name": "python3"
  },
  "language_info": {
   "codemirror_mode": {
    "name": "ipython",
    "version": 3
   },
   "file_extension": ".py",
   "mimetype": "text/x-python",
   "name": "python",
   "nbconvert_exporter": "python",
   "pygments_lexer": "ipython3",
   "version": "3.8.2"
  }
 },
 "nbformat": 4,
 "nbformat_minor": 4
}
