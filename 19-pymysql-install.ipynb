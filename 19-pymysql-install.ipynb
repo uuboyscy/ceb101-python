{
 "cells": [
  {
   "cell_type": "code",
   "execution_count": 1,
   "metadata": {},
   "outputs": [
    {
     "name": "stdout",
     "output_type": "stream",
     "text": [
      "Collecting pymysql\n",
      "\u001b[?25l  Downloading https://files.pythonhosted.org/packages/1a/ea/dd9c81e2d85efd03cfbf808736dd055bd9ea1a78aea9968888b1055c3263/PyMySQL-0.10.1-py2.py3-none-any.whl (47kB)\n",
      "\u001b[K    100% |████████████████████████████████| 51kB 434kB/s ta 0:00:011\n",
      "\u001b[?25hInstalling collected packages: pymysql\n",
      "Successfully installed pymysql-0.10.1\n"
     ]
    }
   ],
   "source": [
    "!pip install pymysql"
   ]
  },
  {
   "cell_type": "code",
   "execution_count": 2,
   "metadata": {
    "scrolled": true
   },
   "outputs": [
    {
     "name": "stdout",
     "output_type": "stream",
     "text": [
      "total 248\r\n",
      "-rw-r--r--  1 uuboy.scy  staff    39 Oct 18 09:22 00-glob.py\r\n",
      "-rw-r--r--  1 uuboy.scy  staff   196 Oct 18 09:14 00-os.py\r\n",
      "-rw-r--r--  1 uuboy.scy  staff   216 Oct 18 09:34 02-time.py\r\n",
      "-rw-r--r--  1 uuboy.scy  staff   122 Oct 18 09:43 03-sys.py\r\n",
      "-rw-r--r--  1 uuboy.scy  staff   157 Oct 18 09:51 04-sys-argv.py\r\n",
      "-rw-r--r--  1 uuboy.scy  staff    31 Oct 18 09:52 05-sys-platform.py\r\n",
      "-rw-r--r--  1 uuboy.scy  staff   314 Oct 18 10:12 06-print.py\r\n",
      "-rw-r--r--  1 uuboy.scy  staff   248 Oct 18 10:24 07-open.py\r\n",
      "-rw-r--r--  1 uuboy.scy  staff   173 Oct 18 10:29 08-json.py\r\n",
      "-rw-r--r--  1 uuboy.scy  staff   375 Oct 18 10:57 09-try-except01.py\r\n",
      "-rw-r--r--  1 uuboy.scy  staff   458 Oct 18 11:16 10-try-except-02.py\r\n",
      "-rw-r--r--  1 uuboy.scy  staff   122 Oct 18 11:20 11-try-sys-exit.py\r\n",
      "-rw-r--r--  1 uuboy.scy  staff   880 Oct 18 11:45 12-parallel.py\r\n",
      "-rw-r--r--  1 uuboy.scy  staff   606 Oct 18 11:51 13-parallel-forloop.py\r\n",
      "-rw-r--r--  1 uuboy.scy  staff   603 Oct 18 12:11 14-parallel-pool.py\r\n",
      "-rw-r--r--  1 uuboy.scy  staff   629 Oct 18 13:46 15-thread-01.py\r\n",
      "-rw-r--r--  1 uuboy.scy  staff   634 Oct 18 13:53 16-thread-02.py\r\n",
      "-rw-r--r--  1 uuboy.scy  staff   944 Oct 18 14:27 17-jupyter-practice.ipynb\r\n",
      "-rw-r--r--  1 uuboy.scy  staff  7554 Oct 18 15:13 18-jupyter-practice.ipynb\r\n",
      "-rw-r--r--  1 uuboy.scy  staff    72 Oct 18 15:17 19-pymysql-install.ipynb\r\n",
      "-rw-r--r--  1 uuboy.scy  staff   715 Oct 18 15:12 staff.json\r\n",
      "-rw-r--r--  1 uuboy.scy  staff   479 Oct 18 14:45 staff.txt\r\n",
      "-rw-r--r--  1 uuboy.scy  staff     3 Oct 18 10:37 test\r\n",
      "-rw-r--r--  1 uuboy.scy  staff     0 Oct 18 09:43 test-error.txt\r\n",
      "-rw-r--r--  1 uuboy.scy  staff     0 Oct 18 09:20 test01\r\n",
      "-rw-r--r--  1 uuboy.scy  staff     0 Oct 18 09:20 test02\r\n",
      "-rw-r--r--  1 uuboy.scy  staff     0 Oct 18 09:20 test03\r\n",
      "drwxr-xr-x  3 uuboy.scy  staff    96 Oct 18 09:10 \u001b[1m\u001b[36mtest1\u001b[m\u001b[m\r\n",
      "-rw-r--r--  1 uuboy.scy  staff     3 Oct 18 10:42 test123-test1\r\n",
      "-rw-r--r--  1 uuboy.scy  staff    13 Oct 18 10:24 test123.txt\r\n",
      "-rw-r--r--  1 uuboy.scy  staff     3 Oct 18 10:48 test123123-test1\r\n",
      "-rw-r--r--  1 uuboy.scy  staff     2 Oct 18 10:11 test1234.txt\r\n",
      "-rw-r--r--  1 uuboy.scy  staff     3 Oct 18 10:48 test?test\r\n",
      "-rw-r--r--  1 uuboy.scy  staff    65 Oct 18 10:26 tmp.json\r\n",
      "-rw-r--r--  1 uuboy.scy  staff    34 Oct 18 11:02 tmp.py\r\n",
      "drwxr-xr-x  8 uuboy.scy  staff   256 Oct 18 14:17 \u001b[1m\u001b[36mvenv\u001b[m\u001b[m\r\n"
     ]
    }
   ],
   "source": [
    "!ls -l"
   ]
  },
  {
   "cell_type": "code",
   "execution_count": 3,
   "metadata": {},
   "outputs": [],
   "source": [
    "import pymysql"
   ]
  },
  {
   "cell_type": "code",
   "execution_count": null,
   "metadata": {},
   "outputs": [],
   "source": []
  }
 ],
 "metadata": {
  "kernelspec": {
   "display_name": "Python 3",
   "language": "python",
   "name": "python3"
  },
  "language_info": {
   "codemirror_mode": {
    "name": "ipython",
    "version": 3
   },
   "file_extension": ".py",
   "mimetype": "text/x-python",
   "name": "python",
   "nbconvert_exporter": "python",
   "pygments_lexer": "ipython3",
   "version": "3.8.2"
  }
 },
 "nbformat": 4,
 "nbformat_minor": 4
}
